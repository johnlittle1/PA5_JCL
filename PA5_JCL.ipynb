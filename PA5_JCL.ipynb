{
 "cells": [
  {
   "cell_type": "markdown",
   "id": "ce01860c-672a-415f-aba1-55660a773436",
   "metadata": {},
   "source": [
    "# Programming Assignment 5\n",
    "---\n",
    "**Author:** John Little  \n",
    "**Version:** 1.0  \n",
    "**Semester:** Spring 2024 "
   ]
  },
  {
   "cell_type": "markdown",
   "id": "d206352f-4f62-4ca6-8a73-c0f2d6d5ca3a",
   "metadata": {},
   "source": [
    "### Problem 1 - Language Translator "
   ]
  },
  {
   "cell_type": "code",
   "execution_count": 11,
   "id": "d5cd44bf-65b2-4412-99c3-e0b33abe0b54",
   "metadata": {},
   "outputs": [
    {
     "name": "stdin",
     "output_type": "stream",
     "text": [
      "Enter a word to translate from English to Spanish (enter Q to stop):  table\n"
     ]
    },
    {
     "name": "stdout",
     "output_type": "stream",
     "text": [
      "The Spanish word for 'table' is 'mesa'.\n"
     ]
    },
    {
     "name": "stdin",
     "output_type": "stream",
     "text": [
      "Enter a word to translate from English to Spanish (enter Q to stop):  tree\n"
     ]
    },
    {
     "name": "stdout",
     "output_type": "stream",
     "text": [
      "The Spanish word for 'tree' is 'árbol'.\n"
     ]
    },
    {
     "name": "stdin",
     "output_type": "stream",
     "text": [
      "Enter a word to translate from English to Spanish (enter Q to stop):  potatoes \n"
     ]
    },
    {
     "name": "stdout",
     "output_type": "stream",
     "text": [
      "The Spanish word for 'potatoes ' is not in this dictionary.\n"
     ]
    },
    {
     "name": "stdin",
     "output_type": "stream",
     "text": [
      "Enter a word to translate from English to Spanish (enter Q to stop):  Q\n"
     ]
    },
    {
     "name": "stdout",
     "output_type": "stream",
     "text": [
      "Done!\n"
     ]
    }
   ],
   "source": [
    "dictionary = { \n",
    "    'apple': 'manzana',\n",
    "    'car': 'coche',\n",
    "    'house': 'casa',\n",
    "    'dog': 'perro',\n",
    "    'cat': 'gato',\n",
    "    'sun': 'sol',\n",
    "    'moon': 'luna',\n",
    "    'tree': 'árbol',\n",
    "    'book': 'libro',\n",
    "    'computer': 'computadora',\n",
    "    'banana': 'plátano',\n",
    "    'chair': 'silla',\n",
    "    'table': 'mesa',\n",
    "    'water': 'agua',\n",
    "    'flower': 'flor',\n",
    "    'bird': 'pájaro',\n",
    "    'friend': 'amigo',\n",
    "    'music': 'música',\n",
    "    'food': 'comida',\n",
    "    'love': 'amor'}\n",
    "\n",
    "eng_word = input('Enter a word to translate from English to Spanish (enter Q to stop): ')\n",
    "\n",
    "while eng_word != 'Q':\n",
    "    if eng_word in dictionary:\n",
    "        span_word = dictionary[eng_word]\n",
    "        print(f\"The Spanish word for '{eng_word}' is '{span_word}'.\")\n",
    "    else: \n",
    "        print(f\"The Spanish word for '{eng_word}' is not in this dictionary.\")\n",
    "    eng_word = input('Enter a word to translate from English to Spanish (enter Q to stop): ')\n",
    "print('Done!')\n"
   ]
  },
  {
   "cell_type": "markdown",
   "id": "ef590737-70a2-4368-bd21-a45ebf99c19a",
   "metadata": {},
   "source": [
    "### Problem 2 - Translating Morse Code "
   ]
  },
  {
   "cell_type": "code",
   "execution_count": 65,
   "id": "19271d60-b3d5-477f-8eeb-c0e15047fc9e",
   "metadata": {},
   "outputs": [
    {
     "name": "stdin",
     "output_type": "stream",
     "text": [
      "Enter a message in English (enter Q to stop):  no\n"
     ]
    },
    {
     "name": "stdout",
     "output_type": "stream",
     "text": [
      "The morse code translation is:  -. --- .\n"
     ]
    },
    {
     "name": "stdin",
     "output_type": "stream",
     "text": [
      "Enter a word to translate from English to Spanish (enter q to stop):  yes\n"
     ]
    },
    {
     "name": "stdout",
     "output_type": "stream",
     "text": [
      "The morse code translation is:  -.-- . ... .\n"
     ]
    },
    {
     "name": "stdin",
     "output_type": "stream",
     "text": [
      "Enter a word to translate from English to Spanish (enter q to stop):  i like redbull\n"
     ]
    },
    {
     "name": "stdout",
     "output_type": "stream",
     "text": [
      "The morse code translation is:  ..    .-.. .. -.- .    .-. . -.. -... ..- .-.. .-.. .\n"
     ]
    },
    {
     "name": "stdin",
     "output_type": "stream",
     "text": [
      "Enter a word to translate from English to Spanish (enter q to stop):  q\n"
     ]
    },
    {
     "name": "stdout",
     "output_type": "stream",
     "text": [
      "Done!\n"
     ]
    }
   ],
   "source": [
    "morse_dict = {\n",
    "    'a': '.-',\n",
    "    'b': '-...',\n",
    "    'c': '-.-.',\n",
    "    'd': '-..',\n",
    "    'e': '.',\n",
    "    'f': '..-.',\n",
    "    'g': '--.',\n",
    "    'h': '....',\n",
    "    'i': '..',\n",
    "    'j': '.---',\n",
    "    'k': '-.-',\n",
    "    'l': '.-..',\n",
    "    'm': '--',\n",
    "    'n': '-.',\n",
    "    'o': '---',\n",
    "    'p': '.--.',\n",
    "    'q': '--.-',\n",
    "    'r': '.-.',\n",
    "    's': '...',\n",
    "    't': '-',\n",
    "    'u': '..-',\n",
    "    'v': '...-',\n",
    "    'w': '.--',\n",
    "    'x': '-..-',\n",
    "    'y': '-.--',\n",
    "    'z': '--..',\n",
    "    '0': '-----',\n",
    "    '1': '.----',\n",
    "    '2': '..---',\n",
    "    '3': '...--',\n",
    "    '4': '....-',\n",
    "    '5': '.....',\n",
    "    '6': '-....',\n",
    "    '7': '--...',\n",
    "    '8': '---..',\n",
    "    '9': '----.'}\n",
    "\n",
    "english = input('Enter a message in English (enter Q to stop): ')\n",
    "def EngToMorse(english):\n",
    "    while english != 'q':\n",
    "        morse = ' '\n",
    "        for character in english:\n",
    "            if character in morse_dict:\n",
    "                morse = morse + morse_dict[character] + ' '\n",
    "            elif character == ' ':\n",
    "                morse = morse + '   '\n",
    "            else:\n",
    "                print(f\"Character {character} is not present in this dictionary\")\n",
    "        print(f\"The morse code translation is: {morse}.\")\n",
    "        english = input('Enter a word to translate from English to Spanish (enter q to stop): ')\n",
    "    print('Done!')\n",
    "\n",
    "EngToMorse(english)\n"
   ]
  },
  {
   "cell_type": "markdown",
   "id": "063b04a6-b40d-4d83-9855-c93b0cf4a94f",
   "metadata": {},
   "source": [
    "### Problem 3 - Comparing Minors/Majors"
   ]
  },
  {
   "cell_type": "code",
   "execution_count": 82,
   "id": "b080de20-82b2-4cd1-a8f1-b57adfeb34d7",
   "metadata": {},
   "outputs": [
    {
     "name": "stdout",
     "output_type": "stream",
     "text": [
      "1. These courses overlap: {'BUSA103', 'MATH117'}.\n",
      "2. They would have to take these courses: {'CS215', 'CS130', 'FINA315', 'BUSA203', 'BUSA305', 'ACCT101', 'CS131', 'BUSA103', 'MATH117', 'ECON110', 'BUSA301'}.\n",
      "3. These courses are in the Business Administration minor, but not the Business Analytics minor: {'FINA315', 'BUSA203', 'BUSA305', 'ACCT101', 'ECON110', 'BUSA301'}\n",
      "4. There are NOT overlapping courses.\n",
      "5. All Business Analytics courses are included in the Data Science major.\n"
     ]
    }
   ],
   "source": [
    "comp_sci = {'CS130', 'CS131', 'CS215'}\n",
    "bus_admin = {'BUSA103', 'BUSA203', 'BUSA301', 'BUSA305', 'ACCT101', 'ECON110', 'FINA315', 'MATH117'}\n",
    "bus_analytics = {'BUSA103', 'BUSA245', 'BUSA346', 'CS150', 'DS160', 'DS300', 'MATH117', 'MATH205'}\n",
    "data_sci = {'BUSA103', 'BUSA245', 'BUSA346', 'CS150', 'DS160', 'DS300', 'DS450', 'MATH205', 'MATH215', 'MATH430', 'ECON410', 'ECON110', 'ECON111', 'MATH117'}\n",
    "\n",
    "answer1 = bus_admin & bus_analytics\n",
    "answer2 = bus_admin | comp_sci\n",
    "answer3 = bus_admin - bus_analytics\n",
    "\n",
    "## answer 4\n",
    "if comp_sci & data_sci:\n",
    "    answer4 = 'There are overlapping courses.'\n",
    "else:\n",
    "    answer4 = 'There are NOT overlapping courses.'\n",
    "\n",
    "## answer 5 \n",
    "subsumed_by_data_sci = True\n",
    "for course in bus_analytics:\n",
    "    if course not in data_sci:\n",
    "        subsumed_by_data_sci = False\n",
    "        \n",
    "if subsumed_by_data_sci:\n",
    "    answer5 = 'All Business Analytics courses are included in the Data Science major.'\n",
    "else:\n",
    "    answer5 = 'NOT all Business Analytics courses are included in the Data Science major.'\n",
    "\n",
    "## print statements \n",
    "print(f\"1. These courses overlap: {answer1}.\")\n",
    "print(f\"2. They would have to take these courses: {answer2}.\")\n",
    "print(f\"3. These courses are in the Business Administration minor, but not the Business Analytics minor: {answer3}\")\n",
    "print(f\"4. {answer4}\")\n",
    "print(f\"5. {answer5}\")\n",
    "\n",
    "\n",
    "    \n"
   ]
  },
  {
   "cell_type": "markdown",
   "id": "5633029d-352d-421e-b096-a47a2fe3c7b4",
   "metadata": {},
   "source": [
    "### Problem 4 - Working with NumPy"
   ]
  },
  {
   "cell_type": "code",
   "execution_count": 108,
   "id": "c23f6d1a-dded-4be2-8e53-fe7d2f295ee0",
   "metadata": {},
   "outputs": [
    {
     "name": "stdout",
     "output_type": "stream",
     "text": [
      "Answers for part a\n",
      "The matrix product is \n",
      "[[126 228   8  20  88]\n",
      " [108   5 104 144   0]\n",
      " [228  60  12 270  32]\n",
      " [154 285  90 114   0]\n",
      " [170 108 195 190 105]]\n",
      "The dot product is 2844\n",
      "  \n",
      "Answers for part b\n",
      "The determinant of the FIRST array is 195204.99999999983\n",
      "The inverse of the FIRST array is 195204.99999999983\n",
      "The determinant of the SECOND array is -245163.99999999997\n",
      "The inverse of the SECOND array is -245163.99999999997\n",
      "  \n",
      "Answer for part c\n",
      "Here is the concatenated and reshaped array: \n",
      "[[0.         0.05263158 0.10526316 0.15789474]\n",
      " [0.21052632 0.26315789 0.31578947 0.36842105]\n",
      " [0.42105263 0.47368421 0.52631579 0.57894737]\n",
      " [0.63157895 0.68421053 0.73684211 0.78947368]\n",
      " [0.84210526 0.89473684 0.94736842 1.        ]\n",
      " [1.         1.05263158 1.10526316 1.15789474]\n",
      " [1.21052632 1.26315789 1.31578947 1.36842105]\n",
      " [1.42105263 1.47368421 1.52631579 1.57894737]\n",
      " [1.63157895 1.68421053 1.73684211 1.78947368]\n",
      " [1.84210526 1.89473684 1.94736842 2.        ]]\n"
     ]
    }
   ],
   "source": [
    "import random\n",
    "import numpy as np\n",
    "nums = np.random.randint(0,21, size=(5,5))\n",
    "nums2 = np.random.randint(0,21, size=(5,5))\n",
    "\n",
    "## part a \n",
    "matrix_product = nums*nums2\n",
    "dot_product = np.dot(nums.flatten(),nums2.flatten())\n",
    "\n",
    "## part b \n",
    "determinant_nums = np.linalg.det(nums)\n",
    "determinant_nums2 = np.linalg.det(nums2)\n",
    "\n",
    "inverse_nums = np.linalg.det(nums)\n",
    "inverse_nums2 = np.linalg.det(nums2)\n",
    "\n",
    "## part c \n",
    "nums3 = np.linspace(0.0,1.0, num=20)\n",
    "nums4 = np.linspace(1.0,2.0, num=20)\n",
    "\n",
    "combined_nums = np.hstack((nums3,nums4))\n",
    "finished_nums = combined_nums.reshape(10,4)\n",
    "\n",
    "### print statements \n",
    "## part a\n",
    "print('Answers for part a')\n",
    "print(f\"The matrix product is \\n{matrix_product}\")\n",
    "print(f\"The dot product is {dot_product}\")\n",
    "print('  ')\n",
    "\n",
    "## part b \n",
    "print('Answers for part b')\n",
    "print(f\"The determinant of the FIRST array is {determinant_nums}\")\n",
    "print(f\"The inverse of the FIRST array is {inverse_nums}\")\n",
    "print(f\"The determinant of the SECOND array is {determinant_nums2}\")\n",
    "print(f\"The inverse of the SECOND array is {inverse_nums2}\")\n",
    "print('  ')\n",
    "\n",
    "## part c \n",
    "print('Answer for part c')\n",
    "print(f\"Here is the concatenated and reshaped array: \\n{finished_nums}\")\n"
   ]
  }
 ],
 "metadata": {
  "kernelspec": {
   "display_name": "anaconda-panel-2023.05-py310",
   "language": "python",
   "name": "conda-env-anaconda-panel-2023.05-py310-py"
  },
  "language_info": {
   "codemirror_mode": {
    "name": "ipython",
    "version": 3
   },
   "file_extension": ".py",
   "mimetype": "text/x-python",
   "name": "python",
   "nbconvert_exporter": "python",
   "pygments_lexer": "ipython3",
   "version": "3.11.5"
  }
 },
 "nbformat": 4,
 "nbformat_minor": 5
}
